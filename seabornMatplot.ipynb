{
  "nbformat": 4,
  "nbformat_minor": 0,
  "metadata": {
    "colab": {
      "name": "26mayıs.ipynb",
      "provenance": [],
      "collapsed_sections": [],
      "authorship_tag": "ABX9TyOnAwvuj+lWcl8KQBPZ+lS3",
      "include_colab_link": true
    },
    "kernelspec": {
      "name": "python3",
      "display_name": "Python 3"
    },
    "language_info": {
      "name": "python"
    }
  },
  "cells": [
    {
      "cell_type": "markdown",
      "metadata": {
        "id": "view-in-github",
        "colab_type": "text"
      },
      "source": [
        "<a href=\"https://colab.research.google.com/github/emretan9/Python/blob/main/seabornMatplot.ipynb\" target=\"_parent\"><img src=\"https://colab.research.google.com/assets/colab-badge.svg\" alt=\"Open In Colab\"/></a>"
      ]
    },
    {
      "cell_type": "code",
      "metadata": {
        "id": "BqV1fQB_R-d2"
      },
      "source": [
        "import seaborn as sns\n",
        "import matplotlib.pyplot as plt"
      ],
      "execution_count": null,
      "outputs": []
    },
    {
      "cell_type": "code",
      "metadata": {
        "id": "NvbTg2HDVfA8"
      },
      "source": [
        "sns.distplot([0, 1, 2, 3, 4, 5], hist=False)\n",
        "\n",
        "plt.show()"
      ],
      "execution_count": null,
      "outputs": []
    },
    {
      "cell_type": "code",
      "metadata": {
        "id": "b6tHxzgwVqHU"
      },
      "source": [
        "sns.set_theme(style=\"darkgrid\")\n",
        "df = sns.load_dataset(\"penguins\")\n",
        "sns.displot(\n",
        "    df, x=\"flipper_length_mm\", col=\"species\", row=\"sex\",\n",
        "    binwidth=3, height=3, facet_kws=dict(margin_titles=True),\n",
        ")"
      ],
      "execution_count": null,
      "outputs": []
    },
    {
      "cell_type": "code",
      "metadata": {
        "id": "n1jUQfLtWzvc"
      },
      "source": [
        "sns.set_theme(style=\"ticks\")\n",
        "\n",
        "df = sns.load_dataset(\"anscombe\")\n",
        "\n",
        "\n",
        "sns.lmplot(x=\"x\", y=\"y\", col=\"dataset\", hue=\"dataset\", data=df,\n",
        "           col_wrap=2, ci=None, palette=\"muted\", height=4,\n",
        "           scatter_kws={\"s\": 50, \"alpha\": 1})"
      ],
      "execution_count": null,
      "outputs": []
    },
    {
      "cell_type": "code",
      "metadata": {
        "id": "EUwzwLafXb9_"
      },
      "source": [
        "sns.set_theme(style=\"ticks\")\n",
        "\n",
        "# Load the penguins dataset\n",
        "penguins = sns.load_dataset(\"penguins\")\n",
        "\n",
        "# Show the joint distribution using kernel density estimation\n",
        "g = sns.jointplot(\n",
        "    data=penguins,\n",
        "    x=\"bill_length_mm\", y=\"bill_depth_mm\", hue=\"species\",\n",
        "    kind=\"kde\",\n",
        ")"
      ],
      "execution_count": null,
      "outputs": []
    },
    {
      "cell_type": "markdown",
      "metadata": {
        "id": "V5W6wYqGbWaD"
      },
      "source": [
        "# 2.dataset car crashes"
      ]
    },
    {
      "cell_type": "code",
      "metadata": {
        "id": "KYjY8CEtbwLD"
      },
      "source": [
        "import matplotlib.pyplot as plt\n",
        "import pandas as pd\n",
        "import seaborn as sns"
      ],
      "execution_count": null,
      "outputs": []
    },
    {
      "cell_type": "code",
      "metadata": {
        "id": "CVhoVNPxZ7Xk"
      },
      "source": [
        "df=sns.load_dataset(\"car_crashes\")\n",
        "\n",
        "sns.scatterplot(data = df, x = \"speeding\", y = \"alcohol\")\n",
        "\n",
        "plt.show()"
      ],
      "execution_count": null,
      "outputs": []
    },
    {
      "cell_type": "code",
      "metadata": {
        "id": "ByVaItuZbaow"
      },
      "source": [
        "df=sns.load_dataset(\"car_crashes\")\n",
        "grid = sns.FacetGrid(df, col = \"not_distracted\", hue = \"ins_losses\", col_wrap=5)\n",
        "grid.map(sns.scatterplot, \"speeding\", \"alcohol\")\n",
        "\n",
        "grid.add_legend()\n",
        "\n",
        "plt.show()\n",
        "\n"
      ],
      "execution_count": null,
      "outputs": []
    },
    {
      "cell_type": "code",
      "metadata": {
        "id": "HCyruZXncT6_"
      },
      "source": [
        "import numpy as np\n",
        "import matplotlib.colors as col\n",
        "from mpl_toolkits.mplot3d import Axes3D\n",
        "import matplotlib.pyplot as plt\n",
        "#Data for a three dimensional line\n",
        "z = np.linspace(0, 15, 1000)\n",
        "x = np.sin(z)\n",
        "y = np.cos(z)\n",
        "fig = plt.figure()\n",
        "ax = fig.add_subplot(111, projection='3d')\n",
        "ax.plot3D(x, y, z, 'grey')\n",
        "#Data for three dimensional scattered points\n",
        "z = 15 * np.random.random(100)\n",
        "x = np.sin(z) + 0.1 * np.random.randn(100)\n",
        "y = np.cos(z) + 0.1 * np.random.randn(100)\n",
        "ax.scatter3D(x, y, z, c=z, cmap='Greens')\n",
        "plt.show()"
      ],
      "execution_count": null,
      "outputs": []
    },
    {
      "cell_type": "code",
      "metadata": {
        "id": "WiAeb7X0cu06"
      },
      "source": [
        "def f(x, y):\n",
        "    return np.sin(np.sqrt(x ** 2 + y ** 2))\n",
        "x = np.linspace(-6, 6, 30)\n",
        "y = np.linspace(-6, 6, 30)\n",
        "x, y = np.meshgrid(x, y)\n",
        "z = f(x, y)\n",
        "fig = plt.figure()\n",
        "ax = plt.axes(projection='3d')\n",
        "ax.contour3D(x,y,z,50, cmap='binary')\n",
        "ax.set_xlabel('x')\n",
        "ax.set_ylabel('y')\n",
        "ax.set_zlabel('z')\n",
        "plt.show()"
      ],
      "execution_count": null,
      "outputs": []
    },
    {
      "cell_type": "markdown",
      "metadata": {
        "id": "8PUoTQDQiC0X"
      },
      "source": [
        "# PROJE DENEMESİ:"
      ]
    },
    {
      "cell_type": "code",
      "metadata": {
        "id": "ci0Js9lJiFYO"
      },
      "source": [
        "import pandas as pd"
      ],
      "execution_count": null,
      "outputs": []
    },
    {
      "cell_type": "code",
      "metadata": {
        "id": "lSl7FrmkiWgr",
        "colab": {
          "base_uri": "https://localhost:8080/",
          "height": 402
        },
        "outputId": "df9ef18b-020d-4cd7-b451-949c7f12c08b"
      },
      "source": [
        "veri=pd.read_csv(\"https://raw.githubusercontent.com/robinske/password-data/master/passwords/part-00000-abca9f4b-5795-47ee-8382-f523480a532f.csv\")\n",
        "veri"
      ],
      "execution_count": null,
      "outputs": [
        {
          "output_type": "execute_result",
          "data": {
            "text/html": [
              "<div>\n",
              "<style scoped>\n",
              "    .dataframe tbody tr th:only-of-type {\n",
              "        vertical-align: middle;\n",
              "    }\n",
              "\n",
              "    .dataframe tbody tr th {\n",
              "        vertical-align: top;\n",
              "    }\n",
              "\n",
              "    .dataframe thead th {\n",
              "        text-align: right;\n",
              "    }\n",
              "</style>\n",
              "<table border=\"1\" class=\"dataframe\">\n",
              "  <thead>\n",
              "    <tr style=\"text-align: right;\">\n",
              "      <th></th>\n",
              "      <th>password</th>\n",
              "      <th>hash</th>\n",
              "      <th>count</th>\n",
              "    </tr>\n",
              "  </thead>\n",
              "  <tbody>\n",
              "    <tr>\n",
              "      <th>0</th>\n",
              "      <td>1980290</td>\n",
              "      <td>083040BB6B1D95F2B8AC447B50D21DAB38DAFF16</td>\n",
              "      <td>13</td>\n",
              "    </tr>\n",
              "    <tr>\n",
              "      <th>1</th>\n",
              "      <td>tornadof</td>\n",
              "      <td>0A7709AD9837766F20156FF016ABF66F8036ABC1</td>\n",
              "      <td>13</td>\n",
              "    </tr>\n",
              "    <tr>\n",
              "      <th>2</th>\n",
              "      <td>vova87654</td>\n",
              "      <td>66221A7691CDC27D9D31071A0CFA0712C100C7D7</td>\n",
              "      <td>13</td>\n",
              "    </tr>\n",
              "    <tr>\n",
              "      <th>3</th>\n",
              "      <td>XpKvShrO</td>\n",
              "      <td>4CB7086C94AE4D82E519FF8F98D0DA1DA38DBE53</td>\n",
              "      <td>13</td>\n",
              "    </tr>\n",
              "    <tr>\n",
              "      <th>4</th>\n",
              "      <td>tvjgtl</td>\n",
              "      <td>9E1FD26A17D2EBE7C9FD4181EF49424C7091D484</td>\n",
              "      <td>13</td>\n",
              "    </tr>\n",
              "    <tr>\n",
              "      <th>...</th>\n",
              "      <td>...</td>\n",
              "      <td>...</td>\n",
              "      <td>...</td>\n",
              "    </tr>\n",
              "    <tr>\n",
              "      <th>6840</th>\n",
              "      <td>Gerd</td>\n",
              "      <td>57A4862F88FE6071C919C2339F76C4A64BFB9E25</td>\n",
              "      <td>69</td>\n",
              "    </tr>\n",
              "    <tr>\n",
              "      <th>6841</th>\n",
              "      <td>04011991j</td>\n",
              "      <td>0A7EB77C98C1602A064778C87964359D9A3A2A3C</td>\n",
              "      <td>69</td>\n",
              "    </tr>\n",
              "    <tr>\n",
              "      <th>6842</th>\n",
              "      <td>5101957</td>\n",
              "      <td>733B5C6641B2E28DBDD408039A50D951E40A85C3</td>\n",
              "      <td>69</td>\n",
              "    </tr>\n",
              "    <tr>\n",
              "      <th>6843</th>\n",
              "      <td>yeuanhnhe</td>\n",
              "      <td>3DA3F93506F3202E39D8929FB8F418A4C2A2A466</td>\n",
              "      <td>69</td>\n",
              "    </tr>\n",
              "    <tr>\n",
              "      <th>6844</th>\n",
              "      <td>08101991n</td>\n",
              "      <td>727DF2A78F4F0AEFD58BE23EC35744AE9D81AF66</td>\n",
              "      <td>69</td>\n",
              "    </tr>\n",
              "  </tbody>\n",
              "</table>\n",
              "<p>6845 rows × 3 columns</p>\n",
              "</div>"
            ],
            "text/plain": [
              "       password                                      hash  count\n",
              "0       1980290  083040BB6B1D95F2B8AC447B50D21DAB38DAFF16     13\n",
              "1      tornadof  0A7709AD9837766F20156FF016ABF66F8036ABC1     13\n",
              "2     vova87654  66221A7691CDC27D9D31071A0CFA0712C100C7D7     13\n",
              "3      XpKvShrO  4CB7086C94AE4D82E519FF8F98D0DA1DA38DBE53     13\n",
              "4        tvjgtl  9E1FD26A17D2EBE7C9FD4181EF49424C7091D484     13\n",
              "...         ...                                       ...    ...\n",
              "6840       Gerd  57A4862F88FE6071C919C2339F76C4A64BFB9E25     69\n",
              "6841  04011991j  0A7EB77C98C1602A064778C87964359D9A3A2A3C     69\n",
              "6842    5101957  733B5C6641B2E28DBDD408039A50D951E40A85C3     69\n",
              "6843  yeuanhnhe  3DA3F93506F3202E39D8929FB8F418A4C2A2A466     69\n",
              "6844  08101991n  727DF2A78F4F0AEFD58BE23EC35744AE9D81AF66     69\n",
              "\n",
              "[6845 rows x 3 columns]"
            ]
          },
          "metadata": {
            "tags": []
          },
          "execution_count": 130
        }
      ]
    },
    {
      "cell_type": "code",
      "metadata": {
        "id": "8VtneKiDk4H_",
        "colab": {
          "base_uri": "https://localhost:8080/"
        },
        "outputId": "0eedd4f4-173b-405d-9c97-9a082a15d80c"
      },
      "source": [
        "veri.password"
      ],
      "execution_count": null,
      "outputs": [
        {
          "output_type": "execute_result",
          "data": {
            "text/plain": [
              "0         1980290\n",
              "1        tornadof\n",
              "2       vova87654\n",
              "3        XpKvShrO\n",
              "4          tvjgtl\n",
              "          ...    \n",
              "6840         Gerd\n",
              "6841    04011991j\n",
              "6842      5101957\n",
              "6843    yeuanhnhe\n",
              "6844    08101991n\n",
              "Name: password, Length: 6845, dtype: object"
            ]
          },
          "metadata": {
            "tags": []
          },
          "execution_count": 131
        }
      ]
    },
    {
      "cell_type": "code",
      "metadata": {
        "colab": {
          "base_uri": "https://localhost:8080/",
          "height": 212
        },
        "id": "wjcyYuW2xo-a",
        "outputId": "c27fb8ad-2d19-47d1-b604-ca7e76169f94"
      },
      "source": [
        "b=input(\"enter password:\")\n",
        "for b in veri.password() :\n",
        "  print(\"hg\")\n"
      ],
      "execution_count": null,
      "outputs": [
        {
          "output_type": "stream",
          "text": [
            "enter password:5101957\n"
          ],
          "name": "stdout"
        },
        {
          "output_type": "error",
          "ename": "TypeError",
          "evalue": "ignored",
          "traceback": [
            "\u001b[0;31m---------------------------------------------------------------------------\u001b[0m",
            "\u001b[0;31mTypeError\u001b[0m                                 Traceback (most recent call last)",
            "\u001b[0;32m<ipython-input-138-f5bd53ac4880>\u001b[0m in \u001b[0;36m<module>\u001b[0;34m()\u001b[0m\n\u001b[1;32m      1\u001b[0m \u001b[0mb\u001b[0m\u001b[0;34m=\u001b[0m\u001b[0minput\u001b[0m\u001b[0;34m(\u001b[0m\u001b[0;34m\"enter password:\"\u001b[0m\u001b[0;34m)\u001b[0m\u001b[0;34m\u001b[0m\u001b[0;34m\u001b[0m\u001b[0m\n\u001b[0;32m----> 2\u001b[0;31m \u001b[0;32mfor\u001b[0m \u001b[0mb\u001b[0m \u001b[0;32min\u001b[0m \u001b[0mveri\u001b[0m\u001b[0;34m.\u001b[0m\u001b[0mpassword\u001b[0m\u001b[0;34m(\u001b[0m\u001b[0;34m)\u001b[0m \u001b[0;34m:\u001b[0m\u001b[0;34m\u001b[0m\u001b[0;34m\u001b[0m\u001b[0m\n\u001b[0m\u001b[1;32m      3\u001b[0m   \u001b[0mprint\u001b[0m\u001b[0;34m(\u001b[0m\u001b[0;34m\"hg\"\u001b[0m\u001b[0;34m)\u001b[0m\u001b[0;34m\u001b[0m\u001b[0;34m\u001b[0m\u001b[0m\n",
            "\u001b[0;31mTypeError\u001b[0m: 'Series' object is not callable"
          ]
        }
      ]
    },
    {
      "cell_type": "markdown",
      "metadata": {
        "id": "QbTrW7Ann3im"
      },
      "source": [
        "# derste:"
      ]
    },
    {
      "cell_type": "code",
      "metadata": {
        "id": "G9aV-pjsn5oW"
      },
      "source": [
        "data= {\"name\":\"zafer\",\"password\":\"1,2,3\"}\n",
        "data2= {\"name\":\"emre\",\"password\":\"963\"}\n",
        "x= input(\"name:\")\n",
        "y= input(\"password:\")\n",
        "\n",
        "if [x==\"data== name \"] and [y==\"data==password\"]:\n",
        "  print(\"hg\")\n",
        "elif [x==\"data2== name\"] and [y==\"data2==password\"]:\n",
        "  print(\"hg\")\n",
        "elif[x==\"data== name\"] and [y==\"data!= password\"]:\n",
        "  print(\"tekrar dene!\")\n",
        "elif[x==\"data2== name\"] and [y==\"data2!=password\"]:\n",
        "  print(\"tekrar dene!\")\n"
      ],
      "execution_count": null,
      "outputs": []
    }
  ]
}